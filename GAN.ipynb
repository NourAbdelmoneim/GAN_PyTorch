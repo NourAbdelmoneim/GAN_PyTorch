{
 "cells": [
  {
   "cell_type": "markdown",
   "metadata": {},
   "source": [
    "# Generative Adversarial Network"
   ]
  },
  {
   "cell_type": "markdown",
   "metadata": {},
   "source": [
    "-------------\n",
    "## Importing Libraries\n"
   ]
  },
  {
   "cell_type": "code",
   "execution_count": null,
   "metadata": {},
   "outputs": [],
   "source": [
    "import os\n",
    "import torch\n",
    "import torchvision\n",
    "import torch.nn as nn\n",
    "from torchvision import transforms\n",
    "from torchvision.utils import save_image\n",
    "import torch.optim as optim"
   ]
  },
  {
   "cell_type": "code",
   "execution_count": null,
   "metadata": {},
   "outputs": [],
   "source": [
    "import numpy as np\n",
    "import os.path\n",
    "from glob import glob\n",
    "from PIL import Image\n",
    "from tqdm import tqdm\n",
    "import matplotlib.pyplot as plt\n",
    "import torchvision.datasets as dat_s\n",
    "import torch.utils.data as data"
   ]
  },
  {
   "cell_type": "markdown",
   "metadata": {},
   "source": [
    "-----\n",
    "## GPU Device Configuration"
   ]
  },
  {
   "cell_type": "code",
   "execution_count": null,
   "metadata": {},
   "outputs": [],
   "source": [
    "device = torch.device('cuda' if torch.cuda.is_available() else 'cpu')"
   ]
  },
  {
   "cell_type": "markdown",
   "metadata": {},
   "source": [
    "-----\n",
    "## Configuration\n",
    "\n",
    "### Hyperparameters"
   ]
  },
  {
   "cell_type": "code",
   "execution_count": null,
   "metadata": {},
   "outputs": [],
   "source": [
    "latentSize = 100\n",
    "hiddenSize = 100\n",
    "inputImgSize = int(64*64*3)\n",
    "n_epochs = 25\n",
    "batchSize = 128\n",
    "outputDirectory = \"modelSaved\"\n",
    "learning_rate = 0.00001"
   ]
  },
  {
   "cell_type": "markdown",
   "metadata": {},
   "source": [
    "### Device"
   ]
  },
  {
   "cell_type": "code",
   "execution_count": null,
   "metadata": {},
   "outputs": [],
   "source": [
    "if not os.path.exists(outputDirectory):   \n",
    "    os.makedirs(outputDirectory)"
   ]
  },
  {
   "cell_type": "markdown",
   "metadata": {},
   "source": [
    "-----\n",
    "##  Image processing"
   ]
  },
  {
   "cell_type": "code",
   "execution_count": null,
   "metadata": {},
   "outputs": [],
   "source": [
    "some_var = dat_s.ImageFolder(root=\"/home/mmvc/img\",\n",
    "                           transform=transforms.Compose([\n",
    "                               transforms.CenterCrop(160),\n",
    "                               transforms.Resize(64),\n",
    "                               transforms.ToTensor(),\n",
    "                               transforms.Normalize((0.5, 0.5, 0.5), (0.5, 0.5, 0.5)),\n",
    "                           ]))\n",
    "# Create the dataloader\n",
    "dataloader_img = torch.utils.data.DataLoader(some_var, batch_size=batchSize,\n",
    "                                         shuffle=True, num_workers=2)\n",
    "\n",
    "img, target = dataloader_img.dataset.__getitem__(202598)\n",
    "print(target)"
   ]
  },
  {
   "cell_type": "markdown",
   "metadata": {},
   "source": [
    "-----\n",
    "##  Creating Network\n",
    "\n",
    "### Discriminator"
   ]
  },
  {
   "cell_type": "code",
   "execution_count": null,
   "metadata": {},
   "outputs": [],
   "source": [
    "class Discriminator(nn.Module):\n",
    "    \n",
    "    def __init__(self):\n",
    "        super(Discriminator,self).__init__()\n",
    "        \n",
    "        self.l1 = nn.Sequential(\n",
    "            nn.Linear(inputImgSize,256),\n",
    "            nn.LeakyReLU()\n",
    "        )\n",
    "       \n",
    "        self.l2 = nn.Sequential(\n",
    "            nn.Linear(256,512),\n",
    "            nn.LeakyReLU()\n",
    "        )\n",
    "        \n",
    "        self.l3 = nn.Sequential(\n",
    "            nn.Linear(512,512),\n",
    "            nn.LeakyReLU()\n",
    "        )\n",
    "        \n",
    "        self.l4 = nn.Sequential(\n",
    "            nn.Linear(512,1),\n",
    "            nn.Sigmoid()\n",
    "        )\n",
    "        \n",
    "        \n",
    "    def forward(self,x):\n",
    "        \n",
    "        output = self.l1(x)\n",
    "        output = self.l2(output)\n",
    "        output = self.l3(output)\n",
    "        output = self.l4(output)\n",
    "        \n",
    "        return output\n",
    "    "
   ]
  },
  {
   "cell_type": "markdown",
   "metadata": {},
   "source": [
    "### Generator "
   ]
  },
  {
   "cell_type": "code",
   "execution_count": null,
   "metadata": {},
   "outputs": [],
   "source": [
    "class Generator(nn.Module):\n",
    "    \n",
    "    def __init__(self):\n",
    "        super(Generator,self).__init__()\n",
    "        \n",
    "        self.l1 = nn.Sequential(\n",
    "            nn.Linear(latentSize,256),\n",
    "            nn.ReLU()\n",
    "        )\n",
    "        \n",
    "        self.l2 = nn.Sequential(\n",
    "            nn.Linear(256,512),\n",
    "            nn.ReLU()\n",
    "        )\n",
    "        \n",
    "        self.l3 = nn.Sequential(\n",
    "            nn.Linear(512,1024),\n",
    "            nn.ReLU()\n",
    "        )\n",
    "        \n",
    "        self.l4 = nn.Sequential(\n",
    "            nn.Linear(1024,1024),\n",
    "            nn.ReLU()\n",
    "        )\n",
    "        \n",
    "        self.l5 = nn.Sequential(\n",
    "            nn.Linear(1024,inputImgSize),\n",
    "            nn.Tanh()\n",
    "        )\n",
    "        \n",
    "        \n",
    "        \n",
    "    def forward(self,x):\n",
    "        \n",
    "        output = self.l1(x)\n",
    "        output = self.l2(output)\n",
    "        output = self.l3(output)\n",
    "        output = self.l4(output)\n",
    "        output = self.l5(output)\n",
    "        \n",
    "        return output\n",
    "        "
   ]
  },
  {
   "cell_type": "markdown",
   "metadata": {},
   "source": [
    "### Sending Network to Device"
   ]
  },
  {
   "cell_type": "code",
   "execution_count": null,
   "metadata": {},
   "outputs": [],
   "source": [
    "discriminator = Discriminator()\n",
    "discriminator.to(device)\n",
    "\n",
    "\n",
    "generator = Generator()\n",
    "generator.to(device)\n"
   ]
  },
  {
   "cell_type": "markdown",
   "metadata": {},
   "source": [
    "### Loss Function and Optimizer"
   ]
  },
  {
   "cell_type": "code",
   "execution_count": null,
   "metadata": {},
   "outputs": [],
   "source": [
    "lossFunction = nn.BCELoss()\n",
    "\n",
    "optimizerD = optim.Adam(discriminator.parameters(), lr = learning_rate)\n",
    "optimizerG = optim.SGD(generator.parameters(), lr = learning_rate)\n"
   ]
  },
  {
   "cell_type": "markdown",
   "metadata": {},
   "source": [
    "-----\n",
    "##  Training"
   ]
  },
  {
   "cell_type": "code",
   "execution_count": null,
   "metadata": {
    "scrolled": false
   },
   "outputs": [],
   "source": [
    "totalSteps = len(dataloader_img)\n",
    "discriminatorLosses = []\n",
    "generatorLosses = []\n",
    "\n",
    "for epoch in range(n_epochs):\n",
    "    \n",
    "    for i, (X,y) in enumerate(dataloader_img):\n",
    "        \n",
    "        if (i==len(dataloader_img)-1):\n",
    "            continue\n",
    "                    \n",
    "        X = X.reshape(batchSize,-1)\n",
    "        \n",
    "        X = X.to(device)\n",
    "                \n",
    "        realLabels = torch.ones(batchSize, 1).to(device)\n",
    "        fakeLabels = torch.zeros(batchSize, 1).to(device)\n",
    "        \n",
    "        #train the descriminator\n",
    "        optimizerD.zero_grad()\n",
    "        discriminatorResult_real = discriminator(X)\n",
    "        lossDis_real = lossFunction(discriminatorResult_real, realLabels)\n",
    "        lossDis_real.backward()\n",
    "        \n",
    "        z = torch.randn(batchSize, latentSize)\n",
    "        z = z.to(device)\n",
    "      \n",
    "        generatorResult_z = generator(z)\n",
    "        discriminatorResult_z = discriminator(generatorResult_z.detach())\n",
    "        lossDis_fake = lossFunction(discriminatorResult_z, fakeLabels)\n",
    "        lossDis_fake.backward()\n",
    "        \n",
    "        optimizerD.step()\n",
    "        \n",
    "        \n",
    "        #train the generator\n",
    "        optimizerG.zero_grad()\n",
    "        \n",
    "        generatorResult = discriminator(generatorResult_z)\n",
    "        loss_real = lossFunction(generatorResult, realLabels)\n",
    "        loss_real.backward()\n",
    "        \n",
    "        optimizerG.step()       \n",
    "        \n",
    "        if (i % 300 == 0):\n",
    "            print(\"Epoch: {}\".format(epoch)) \n",
    "            print(\"Index: {}\".format(i))\n",
    "            print(\"Discriminator Loss: {}\".format(lossDis_fake.item() + lossDis_real.item())) \n",
    "            print(\"Generator Loss: {}\".format(loss_real.item()))\n",
    "    \n",
    "    discriminatorLosses.append(lossDis_fake.item() + lossDis_real.item())\n",
    "    generatorLosses.append(loss_real.item())\n",
    "        "
   ]
  },
  {
   "cell_type": "markdown",
   "metadata": {},
   "source": [
    "-----------\n",
    "\n",
    "## Visualizing Data"
   ]
  },
  {
   "cell_type": "code",
   "execution_count": null,
   "metadata": {},
   "outputs": [],
   "source": [
    "c = np.arange(0,len(discriminatorLosses))\n",
    "\n",
    "plt.figure(figsize = [10,6])\n",
    "\n",
    "plt.plot(c,discriminatorLosses, marker = \"+\",color = \"r\")\n",
    "plt.plot(c,generatorLosses, marker = \"x\", color = \"k\")\n",
    "plt.title(\"Discriminator and Generator Loss\")\n",
    "plt.xlabel(\"Epoch\")\n",
    "plt.ylabel(\"Loss\")\n",
    "plt.legend((\"Discriminator\",\"Generator\"))\n",
    "plt.show()"
   ]
  },
  {
   "cell_type": "code",
   "execution_count": null,
   "metadata": {},
   "outputs": [],
   "source": [
    "plt.figure(figsize = [10,6])\n",
    "plt.plot(c,discriminatorLosses, marker = \"+\",color = \"r\")\n",
    "plt.title(\"Discriminator Loss\")\n",
    "plt.xlabel(\"Epoch\")\n",
    "plt.ylabel(\"Loss\")\n",
    "plt.show()"
   ]
  },
  {
   "cell_type": "markdown",
   "metadata": {},
   "source": [
    "## Summarizing Results"
   ]
  },
  {
   "cell_type": "code",
   "execution_count": null,
   "metadata": {},
   "outputs": [],
   "source": [
    "maxGen = max(generatorLosses)\n",
    "maxDis = max(discriminatorLosses)\n",
    "\n",
    "minGen = min(generatorLosses)\n",
    "minDis = min(discriminatorLosses)\n",
    "\n",
    "print(\"Maximum Generator Loss: \", maxGen)\n",
    "print(\"Minimum Generator Loss: \", minGen)\n",
    "\n",
    "print()\n",
    "\n",
    "print(\"Maximum Discriminator Loss: \", maxDis)\n",
    "print(\"Minimum Discriminator Loss: \", minDis)"
   ]
  }
 ],
 "metadata": {
  "kernelspec": {
   "display_name": "Python 3",
   "language": "python",
   "name": "python3"
  },
  "language_info": {
   "codemirror_mode": {
    "name": "ipython",
    "version": 3
   },
   "file_extension": ".py",
   "mimetype": "text/x-python",
   "name": "python",
   "nbconvert_exporter": "python",
   "pygments_lexer": "ipython3",
   "version": "3.7.4"
  }
 },
 "nbformat": 4,
 "nbformat_minor": 2
}
